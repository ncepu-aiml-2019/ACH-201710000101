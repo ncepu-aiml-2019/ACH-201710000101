{
 "cells": [
  {
   "cell_type": "markdown",
   "metadata": {},
   "source": [
    "优点：计算复杂度不高，输出结果易于理解，对中间值的缺失不敏感，可以处理不相关特\n",
    "征数据。\n",
    "缺点：可能会产生过度匹配问题。\n",
    "适用数据类型：数值型和标称型"
   ]
  },
  {
   "cell_type": "markdown",
   "metadata": {},
   "source": [
    "# 决策树伪代码\n",
    "检测数据集中的每个子项是否属于同一分类： \n",
    "If so return 类标签；\n",
    "Else \n",
    " 寻找划分数据集的最好特征\n",
    " 划分数据集\n",
    " 创建分支节点\n",
    "for 每个划分的子集\n",
    " 调用函数createBranch并增加返回结果到分支节点中\n",
    "return 分支节点"
   ]
  },
  {
   "cell_type": "markdown",
   "metadata": {},
   "source": [
    "# 决策树决策流程\n",
    "(1) 收集数据：可以使用任何方法。\n",
    "(2) 准备数据：树构造算法只适用于标称型数据，因此数值型数据必须离散化。\n",
    "(3) 分析数据：可以使用任何方法，构造树完成之后，我们应该检查图形是否符合预期。\n",
    "(4) 训练算法：构造树的数据结构。\n",
    "(5) 测试算法：使用经验树计算错误率。\n",
    "(6) 使用算法：此步骤可以适用于任何监督学习算法，而使用决策树可以更好地理解数据\n",
    "的内在含义。"
   ]
  },
  {
   "cell_type": "code",
   "execution_count": 1,
   "metadata": {},
   "outputs": [],
   "source": [
    "from math import log\n",
    "def calcShannonEnt(dataSet):\n",
    "    # 求list的长度，表示计算参与训练的数据量\n",
    "    numEntries = len(dataSet)\n",
    "    # 计算分类标签label出现的次数\n",
    "    labelCounts = {}\n",
    "    # the the number of unique elements and their occurrence\n",
    "    for featVec in dataSet:\n",
    "        # 将当前实例的标签存储，即每一行数据的最后一个数据代表的是标签\n",
    "        currentLabel = featVec[-1]\n",
    "        # 为所有可能的分类创建字典，如果当前的键值不存在，则扩展字典并将当前键值加入字典。每个键值都记录了当前类别出现的次数。\n",
    "        if currentLabel not in labelCounts.keys():\n",
    "            labelCounts[currentLabel] = 0\n",
    "        labelCounts[currentLabel] += 1\n",
    "\n",
    "    # 对于 label 标签的占比，求出 label 标签的香农熵\n",
    "    shannonEnt = 0.0\n",
    "    for key in labelCounts:\n",
    "        # 使用所有类标签的发生频率计算类别出现的概率。\n",
    "        prob = float(labelCounts[key])/numEntries\n",
    "        # 计算香农熵，以 2 为底求对数\n",
    "        shannonEnt -= prob * log(prob, 2)\n",
    "    return shannonEnt"
   ]
  },
  {
   "cell_type": "code",
   "execution_count": 2,
   "metadata": {},
   "outputs": [],
   "source": [
    "def createDataSet():\n",
    "    dataSet = [[1, 1, 'yes'],\n",
    "               [1, 1, 'yes'],\n",
    "               [1, 0, 'no'],\n",
    "               [0, 1, 'no'],\n",
    "               [0, 1, 'no']]\n",
    "    labels = ['no surfacing', 'flippers']\n",
    "    return dataSet, labels"
   ]
  },
  {
   "cell_type": "code",
   "execution_count": 3,
   "metadata": {},
   "outputs": [],
   "source": [
    "myDat,labels = createDataSet()"
   ]
  },
  {
   "cell_type": "code",
   "execution_count": 4,
   "metadata": {},
   "outputs": [
    {
     "data": {
      "text/plain": [
       "[[1, 1, 'yes'], [1, 1, 'yes'], [1, 0, 'no'], [0, 1, 'no'], [0, 1, 'no']]"
      ]
     },
     "execution_count": 4,
     "metadata": {},
     "output_type": "execute_result"
    }
   ],
   "source": [
    "myDat"
   ]
  },
  {
   "cell_type": "code",
   "execution_count": 5,
   "metadata": {},
   "outputs": [
    {
     "data": {
      "text/plain": [
       "['no surfacing', 'flippers']"
      ]
     },
     "execution_count": 5,
     "metadata": {},
     "output_type": "execute_result"
    }
   ],
   "source": [
    "labels"
   ]
  },
  {
   "cell_type": "code",
   "execution_count": 6,
   "metadata": {},
   "outputs": [
    {
     "name": "stdout",
     "output_type": "stream",
     "text": [
      "0.9709505944546686\n"
     ]
    }
   ],
   "source": [
    "print(calcShannonEnt(myDat))"
   ]
  },
  {
   "cell_type": "code",
   "execution_count": 7,
   "metadata": {},
   "outputs": [],
   "source": [
    "myDat[0][-1]='maybe'"
   ]
  },
  {
   "cell_type": "code",
   "execution_count": 8,
   "metadata": {},
   "outputs": [
    {
     "data": {
      "text/plain": [
       "0.9709505944546686"
      ]
     },
     "execution_count": 8,
     "metadata": {},
     "output_type": "execute_result"
    }
   ],
   "source": [
    "calcShannonEnt(myDat)"
   ]
  },
  {
   "cell_type": "markdown",
   "metadata": {},
   "source": [
    "# 按照给定特征划分数据集"
   ]
  },
  {
   "cell_type": "code",
   "execution_count": 9,
   "metadata": {},
   "outputs": [],
   "source": [
    "def splitDataSet(dataSet, index, value):\n",
    "    \"\"\"splitDataSet(通过遍历dataSet数据集，求出index对应的colnum列的值为value的行)\n",
    "        就是依据index列进行分类，如果index列的数据等于 value的时候，就要将 index 划分到我们创建的新的数据集中\n",
    "    Args:\n",
    "        dataSet 数据集                 待划分的数据集\n",
    "        index 表示每一行的index列        划分数据集的特征\n",
    "        value 表示index列对应的value值   需要返回的特征的值。\n",
    "    Returns:\n",
    "        index列为value的数据集【该数据集需要排除index列】\n",
    "    \"\"\"\n",
    "    retDataSet = []\n",
    "    for featVec in dataSet: \n",
    "        # index列为value的数据集【该数据集需要排除index列】\n",
    "        # 判断index列的值是否为value\n",
    "        if featVec[index] == value:\n",
    "            # chop out index used for splitting\n",
    "            # [:index]表示前index行，即若 index 为2，就是取 featVec 的前 index 行\n",
    "            reducedFeatVec = featVec[:index]\n",
    "            '''\n",
    "            请百度查询一下： extend和append的区别\n",
    "            music_media.append(object) 向列表中添加一个对象object\n",
    "            music_media.extend(sequence) 把一个序列seq的内容添加到列表中 (跟 += 在list运用类似， music_media += sequence)\n",
    "            1、使用append的时候，是将object看作一个对象，整体打包添加到music_media对象中。\n",
    "            2、使用extend的时候，是将sequence看作一个序列，将这个序列和music_media序列合并，并放在其后面。\n",
    "            music_media = []\n",
    "            music_media.extend([1,2,3])\n",
    "            print music_media\n",
    "            #结果：\n",
    "            #[1, 2, 3]\n",
    "            \n",
    "            music_media.append([4,5,6])\n",
    "            print music_media\n",
    "            #结果：\n",
    "            #[1, 2, 3, [4, 5, 6]]\n",
    "            \n",
    "            music_media.extend([7,8,9])\n",
    "            print music_media\n",
    "            #结果：\n",
    "            #[1, 2, 3, [4, 5, 6], 7, 8, 9]\n",
    "            '''\n",
    "            reducedFeatVec.extend(featVec[index+1:])\n",
    "            # [index+1:]表示从跳过 index 的 index+1行，取接下来的数据\n",
    "            # 收集结果值 index列为value的行【该行需要排除index列】\n",
    "            retDataSet.append(reducedFeatVec)\n",
    "    return retDataSet"
   ]
  },
  {
   "cell_type": "code",
   "execution_count": 10,
   "metadata": {},
   "outputs": [],
   "source": [
    "# 看例子说话\n",
    "myDat,labels = createDataSet()"
   ]
  },
  {
   "cell_type": "code",
   "execution_count": 11,
   "metadata": {},
   "outputs": [
    {
     "data": {
      "text/plain": [
       "[[1, 1, 'yes'], [1, 1, 'yes'], [1, 0, 'no'], [0, 1, 'no'], [0, 1, 'no']]"
      ]
     },
     "execution_count": 11,
     "metadata": {},
     "output_type": "execute_result"
    }
   ],
   "source": [
    "myDat"
   ]
  },
  {
   "cell_type": "code",
   "execution_count": 12,
   "metadata": {},
   "outputs": [
    {
     "data": {
      "text/plain": [
       "[[1, 'yes'], [1, 'yes'], [0, 'no']]"
      ]
     },
     "execution_count": 12,
     "metadata": {},
     "output_type": "execute_result"
    }
   ],
   "source": [
    "splitDataSet(myDat,0,1)#这里就是查找第0列等于1的除去第0列的数据"
   ]
  },
  {
   "cell_type": "code",
   "execution_count": 13,
   "metadata": {},
   "outputs": [
    {
     "data": {
      "text/plain": [
       "[[1, 'no'], [1, 'no']]"
      ]
     },
     "execution_count": 13,
     "metadata": {},
     "output_type": "execute_result"
    }
   ],
   "source": [
    "splitDataSet(myDat,0,0)"
   ]
  },
  {
   "cell_type": "code",
   "execution_count": 14,
   "metadata": {},
   "outputs": [],
   "source": [
    "#选择最好的数据集划分方式\n",
    "def chooseBestFeatureToSplit(dataSet):\n",
    "    \"\"\"chooseBestFeatureToSplit(选择最好的特征)\n",
    "\n",
    "    Args:\n",
    "        dataSet 数据集\n",
    "    Returns:\n",
    "        bestFeature 最优的特征列\n",
    "    \"\"\"\n",
    "    # 求第一行有多少列的 Feature, 最后一列是label列嘛\n",
    "    numFeatures = len(dataSet[0]) - 1\n",
    "    # 数据集的原始信息熵\n",
    "    baseEntropy = calcShannonEnt(dataSet)\n",
    "    # 最优的信息增益值, 和最优的Featurn编号\n",
    "    bestInfoGain, bestFeature = 0.0, -1\n",
    "    # iterate over all the features\n",
    "    for i in range(numFeatures):\n",
    "        # create a list of all the examples of this feature\n",
    "        # 获取对应的feature下的所有数据\n",
    "        featList = [example[i] for example in dataSet]\n",
    "        # get a set of unique values\n",
    "        # 获取剔重后的集合，使用set对list数据进行去重\n",
    "        uniqueVals = set(featList)\n",
    "        # 创建一个临时的信息熵\n",
    "        newEntropy = 0.0\n",
    "        # 遍历某一列的value集合，计算该列的信息熵 \n",
    "        # 遍历当前特征中的所有唯一属性值，对每个唯一属性值划分一次数据集，计算数据集的新熵值，并对所有唯一特征值得到的熵求和。\n",
    "        for value in uniqueVals:\n",
    "            subDataSet = splitDataSet(dataSet, i, value)\n",
    "            # 计算概率\n",
    "            prob = len(subDataSet)/float(len(dataSet))\n",
    "            # 计算信息熵\n",
    "            newEntropy += prob * calcShannonEnt(subDataSet)\n",
    "        # gain[信息增益]: 划分数据集前后的信息变化， 获取信息熵最大的值\n",
    "        # 信息增益是熵的减少或者是数据无序度的减少。最后，比较所有特征中的信息增益，返回最好特征划分的索引值。\n",
    "        infoGain = baseEntropy - newEntropy\n",
    "        print('infoGain=', infoGain, 'bestFeature=', i, baseEntropy, newEntropy)\n",
    "        if (infoGain > bestInfoGain):\n",
    "            bestInfoGain = infoGain\n",
    "            bestFeature = i\n",
    "    return bestFeature"
   ]
  },
  {
   "cell_type": "code",
   "execution_count": 15,
   "metadata": {},
   "outputs": [],
   "source": [
    "#https://www.cnblogs.com/kyrieng/p/8694705.html\n",
    "#https://blog.csdn.net/z735640642/article/details/86166587"
   ]
  },
  {
   "cell_type": "code",
   "execution_count": 16,
   "metadata": {},
   "outputs": [
    {
     "name": "stdout",
     "output_type": "stream",
     "text": [
      "infoGain= 0.4199730940219749 bestFeature= 0 0.9709505944546686 0.5509775004326937\n",
      "infoGain= 0.17095059445466854 bestFeature= 1 0.9709505944546686 0.8\n"
     ]
    },
    {
     "data": {
      "text/plain": [
       "0"
      ]
     },
     "execution_count": 16,
     "metadata": {},
     "output_type": "execute_result"
    }
   ],
   "source": [
    "chooseBestFeatureToSplit(myDat)#这里的结果可以看出需要按照第0个特征来是信息增益最大的"
   ]
  },
  {
   "cell_type": "markdown",
   "metadata": {},
   "source": [
    "问：上面的 newEntropy 为什么是根据子集计算的呢？\n",
    "答：因为我们在根据一个特征计算香农熵的时候，该特征的分类值是相同，这个特征这个分类的香农熵为 0；\n",
    "这就是为什么计算新的香农熵的时候使用的是子集"
   ]
  },
  {
   "cell_type": "code",
   "execution_count": 17,
   "metadata": {},
   "outputs": [],
   "source": [
    "def majorityCnt(classList):\n",
    "    classCount = {}\n",
    "    for vote in classList:\n",
    "        if vote not in classCount.keys():\n",
    "            classCount[vote] = 0\n",
    "        else:\n",
    "            classCount[vote] += 1\n",
    "        sortedClassCount = sorted(classCount.item(),key=lambda x:x[1],reverse = True)\n",
    "        return sortedClassCount[0][0]"
   ]
  },
  {
   "cell_type": "code",
   "execution_count": 18,
   "metadata": {},
   "outputs": [],
   "source": [
    "# 类似于KNN中的投票机制\n",
    "def createTree(dataSet, labels):\n",
    "    classList = [example[-1] for example in dataSet]\n",
    "    # 如果数据集的最后一列的第一个值出现的次数=整个集合的数量，也就说只有一个类别，就只直接返回结果就行\n",
    "    # 第一个停止条件：所有的类标签完全相同，则直接返回该类标签。\n",
    "    # count() 函数是统计括号中的值在list中出现的次数\n",
    "    if classList.count(classList[0]) == len(classList):\n",
    "        return classList[0]\n",
    "    # 如果数据集只有1列，那么最初出现label次数最多的一类，作为结果\n",
    "    # 第二个停止条件：使用完了所有特征，仍然不能将数据集划分成仅包含唯一类别的分组。\n",
    "    if len(dataSet[0]) == 1:\n",
    "        return majorityCnt(classList)\n",
    "\n",
    "    # 选择最优的列，得到最优列对应的label含义\n",
    "    bestFeat = chooseBestFeatureToSplit(dataSet)\n",
    "    # 获取label的名称\n",
    "    bestFeatLabel = labels[bestFeat]\n",
    "    # 初始化myTree\n",
    "    myTree = {bestFeatLabel: {}}\n",
    "    # 注：labels列表是可变对象，在PYTHON函数中作为参数时传址引用，能够被全局修改\n",
    "    # 所以这行代码导致函数外的同名变量被删除了元素，造成例句无法执行，提示'no surfacing' is not in list\n",
    "    del(labels[bestFeat])\n",
    "    # 取出最优列，然后它的branch做分类\n",
    "    featValues = [example[bestFeat] for example in dataSet]\n",
    "    uniqueVals = set(featValues)\n",
    "    for value in uniqueVals:\n",
    "        # 求出剩余的标签label\n",
    "        subLabels = labels[:]\n",
    "        # 遍历当前选择特征包含的所有属性值，在每个数据集划分上递归调用函数createTree()\n",
    "        myTree[bestFeatLabel][value] = createTree(splitDataSet(dataSet, bestFeat, value), subLabels)\n",
    "        # print 'myTree', value, myTree\n",
    "    return myTree"
   ]
  },
  {
   "cell_type": "code",
   "execution_count": 20,
   "metadata": {
    "scrolled": true
   },
   "outputs": [
    {
     "name": "stdout",
     "output_type": "stream",
     "text": [
      "infoGain= 0.4199730940219749 bestFeature= 0 0.9709505944546686 0.5509775004326937\n",
      "infoGain= 0.17095059445466854 bestFeature= 1 0.9709505944546686 0.8\n",
      "infoGain= 0.9182958340544896 bestFeature= 0 0.9182958340544896 0.0\n",
      "infoGain= 0.4199730940219749 bestFeature= 0 0.9709505944546686 0.5509775004326937\n",
      "infoGain= 0.17095059445466854 bestFeature= 1 0.9709505944546686 0.8\n",
      "infoGain= 0.9182958340544896 bestFeature= 0 0.9182958340544896 0.0\n"
     ]
    }
   ],
   "source": [
    "labels_copy = labels[:]\n",
    "labels_copy2 = labels[:]\n",
    "mytree = createTree(myDat,labels_copy)\n",
    "tree = createTree(myDat,labels_copy2)"
   ]
  },
  {
   "cell_type": "code",
   "execution_count": 20,
   "metadata": {},
   "outputs": [
    {
     "data": {
      "text/plain": [
       "{'no surfacing': {0: 'no', 1: {'flippers': {0: 'no', 1: 'yes'}}}}"
      ]
     },
     "execution_count": 20,
     "metadata": {},
     "output_type": "execute_result"
    }
   ],
   "source": [
    "mytree"
   ]
  },
  {
   "cell_type": "code",
   "execution_count": 21,
   "metadata": {},
   "outputs": [
    {
     "name": "stdout",
     "output_type": "stream",
     "text": [
      "['no surfacing', 'flippers']\n"
     ]
    }
   ],
   "source": [
    "print(labels)"
   ]
  },
  {
   "cell_type": "code",
   "execution_count": 22,
   "metadata": {},
   "outputs": [],
   "source": [
    "def classify(inputTree, featLabels, testVec):\n",
    "    '''\n",
    "    函数功能：\n",
    "            对测试实例进行分类\n",
    "    参数说明：\n",
    "            inputTree__已经训练好的决策树\n",
    "            featLabels__特征标签类别\n",
    "            testVec__测试示例\n",
    "    函数返回：\n",
    "            分类结果  \n",
    "    '''\n",
    "    # python3.x中input.key()[0]返回的是dict_keys，不是list，这里注意区别（书上的代码是python2.x）\n",
    "    firstStr = list(inputTree.keys())[0]  # 获得决策树第一个节点\n",
    "    #print(featLabels)\n",
    "    secondDict = inputTree[firstStr]      # 获取下一个字典\n",
    "    print(secondDict)\n",
    "    print(firstStr)\n",
    "    featIndex = featLabels.index(firstStr)    # 将标签字符串转换为索引(第一个节点所在列的索引)\n",
    "    for key in secondDict.keys():\n",
    "        #print(testVec[featIndex])\n",
    "        if testVec[featIndex] == key:\n",
    "            if type(secondDict[key]).__name__ == 'dict':\n",
    "                classLabel = classify(secondDict[key], featLabels, testVec)\n",
    "            else:\n",
    "                classLabel = secondDict[key]\n",
    "    return classLabel"
   ]
  },
  {
   "cell_type": "code",
   "execution_count": 23,
   "metadata": {},
   "outputs": [
    {
     "name": "stdout",
     "output_type": "stream",
     "text": [
      "{0: 'no', 1: {'flippers': {0: 'no', 1: 'yes'}}}\n",
      "no surfacing\n",
      "{0: 'no', 1: 'yes'}\n",
      "flippers\n"
     ]
    },
    {
     "data": {
      "text/plain": [
       "'no'"
      ]
     },
     "execution_count": 23,
     "metadata": {},
     "output_type": "execute_result"
    }
   ],
   "source": [
    "classify(mytree,labels,[1,0])"
   ]
  },
  {
   "cell_type": "code",
   "execution_count": 24,
   "metadata": {},
   "outputs": [
    {
     "name": "stdout",
     "output_type": "stream",
     "text": [
      "['no surfacing', 'flippers']\n"
     ]
    }
   ],
   "source": [
    "print(labels)"
   ]
  },
  {
   "cell_type": "code",
   "execution_count": 25,
   "metadata": {},
   "outputs": [],
   "source": [
    "#使用matploblib注解绘制树形图\n",
    "#使用matploblib注解绘制树形图\n",
    "import matplotlib.pyplot as plt\n",
    "\n",
    "from pylab import *\n",
    "mpl.rcParams['font.sans-serif'] = ['SimHei']#中文注释\n",
    "decisionNode = dict(boxstyle='sawtooth',fc=\"0.8\")\n",
    "leafNode = dict(boxstyle=\"round4\",fc=\"0.8\")\n",
    "arrow_args = dict(arrowstyle=\"<-\")\n",
    "def plotNode(nodeTxt,centerPt,parentPt,nodeType):\n",
    "    createPlot.axl.annotate(nodeTxt,xy=parentPt,xycoords=\"axes fraction\",xytext=centerPt,textcoords=\"axes fraction\"\n",
    "                           ,va=\"center\",ha=\"center\",bbox=nodeType,arrowprops=arrow_args)# https://blog.csdn.net/leaf_zizi/article/details/82886755\n",
    "def createPlot():\n",
    "    fig = plt.figure(1,facecolor=\"white\")\n",
    "    fig.clf\n",
    "    createPlot.axl = plt.subplot(111,facecolor=\"white\")\n",
    "    plotNode(U\"决策节点\",(0.5,0.1),(0.1,0.5),decisionNode)\n",
    "    plotNode(U\"叶子节点\",(0.8,0.1),(0.3,0.8),decisionNode)\n",
    "    plt.show()\n",
    "#https://blog.csdn.net/u013038499/article/details/52449768"
   ]
  },
  {
   "cell_type": "code",
   "execution_count": 26,
   "metadata": {},
   "outputs": [
    {
     "data": {
      "image/png": "[encoded data removed]",
      "text/plain": [
       "<Figure size 432x288 with 1 Axes>"
      ]
     },
     "metadata": {},
     "output_type": "display_data"
    }
   ],
   "source": [
    "createPlot()"
   ]
  },
  {
   "cell_type": "code",
   "execution_count": 35,
   "metadata": {},
   "outputs": [],
   "source": [
    "#获得叶子节点数目\n",
    "def getNumLeafs(myTree):\n",
    "    '''\n",
    "    函数功能：\n",
    "            递归计算叶子节点数目\n",
    "    函数参数：\n",
    "            字典形式的决策树\n",
    "    函数返回：\n",
    "            叶子节点数目\n",
    "    '''\n",
    "    numLeafs = 0                                           # 初始化叶子节点的数目\n",
    "    print(list(myTree.keys()))\n",
    "    firstStr = list(myTree.keys())[0]                      # 获取决策树的第一个节点\n",
    "    secondDict = myTree[firstStr]                          # 获取决策树的第二个节点  \n",
    "    for key in secondDict.keys():                          \n",
    "        if type(secondDict[key]).__name__ == 'dict':       # 若该节点为字典形式 \n",
    "            numLeafs += getNumLeafs(secondDict[key])       # 若为字典，则递归计算新分支叶节点数 \n",
    "        else:\n",
    "            numLeafs += 1                                  # 若不是字典，则此节点为叶子节点 \n",
    "    return numLeafs                                        # 返回叶子节点数目\n",
    "\n",
    "# 函数测试\n",
    "# labels = ['no surfacing', 'flippers', 'labels']\n",
    "# labels_copy2 = labels[:]\n",
    "# print(myDat)\n",
    "# print(labels)\n",
    "# tree = createTree(myDat,labels_copy2)"
   ]
  },
  {
   "cell_type": "code",
   "execution_count": 36,
   "metadata": {},
   "outputs": [
    {
     "name": "stdout",
     "output_type": "stream",
     "text": [
      "['no surfacing']\n",
      "['flippers']\n",
      "4\n"
     ]
    }
   ],
   "source": [
    "print(getNumLeafs(tree))"
   ]
  },
  {
   "cell_type": "code",
   "execution_count": 29,
   "metadata": {},
   "outputs": [
    {
     "data": {
      "text/plain": [
       "2"
      ]
     },
     "execution_count": 29,
     "metadata": {},
     "output_type": "execute_result"
    }
   ],
   "source": [
    "#得到树的深度\n",
    "def getTreeDepth(myTree):\n",
    "    '''\n",
    "    函数功能：\n",
    "            递归计算决策树的深度\n",
    "    函数参数：\n",
    "            myTree__字典形式的决策树\n",
    "    函数返回：\n",
    "            决策树的最大深度\n",
    "    '''\n",
    "    maxDepth = 0                                            \n",
    "    firstStr = list(myTree.keys())[0]\n",
    "    secondDict = myTree[firstStr]\n",
    "    for key in secondDict.keys():\n",
    "        if type(secondDict[key]).__name__ == 'dict':\n",
    "            thisDepth = 1 + getTreeDepth(secondDict[key])\n",
    "        else:\n",
    "            thisDepth = 1\n",
    "        if thisDepth > maxDepth:\n",
    "            maxDepth = thisDepth\n",
    "    return maxDepth\n",
    "getTreeDepth(mytree)"
   ]
  },
  {
   "cell_type": "code",
   "execution_count": 30,
   "metadata": {},
   "outputs": [],
   "source": [
    "#使用文本标注\n",
    "decisionNode = dict(boxstyle = 'sawtooth', fc = '0.8')    # 设置中间节点的格式 \n",
    "leafNode = dict(boxstyle = 'round4', fc = '0.8')          # 设置叶子节点的格式\n",
    "arrow_args = dict(arrowstyle = '<-')                      # 定义箭头格式\n",
    "def plotNode(nodeTxt, centerPt, parentPt, nodeType):\n",
    "    '''\n",
    "    函数功能：\n",
    "            绘制节点\n",
    "    参数说明：\n",
    "            nodeTxt__节点名\n",
    "            centerPt__文本位置\n",
    "            parentPt__标注的箭头位置\n",
    "            nodeType__节点格式\n",
    "    '''\n",
    "    createPlot.ax1.annotate(nodeTxt,                                          # 文本内容  \n",
    "                           xy = parentPt, xycoords = 'axes fraction',         # 注释的起始位置，坐标系\n",
    "                           xytext = centerPt, textcoords = 'axes fraction',   # 文本的起始位置\n",
    "                           va = 'center', ha = 'center',                      # 水平对齐，垂直对齐\n",
    "                           bbox = nodeType,                                   # 节点格式\n",
    "                           arrowprops = arrow_args)                           # 箭头格式 "
   ]
  },
  {
   "cell_type": "code",
   "execution_count": 31,
   "metadata": {},
   "outputs": [],
   "source": [
    "#标注有向边\n",
    "def plotMidText(cntrPt, parentPt, txtString):\n",
    "    '''\n",
    "    函数功能：\n",
    "            标注有向边内容\n",
    "    参数说明：\n",
    "            cntrpt、parentPt__计算标注位置\n",
    "            txtString__标注内容\n",
    "    '''\n",
    "    xMid = (parentPt[0] - cntrPt[0])/ 2.0 + cntrPt[0]        # 计算文本位置的横坐标\n",
    "    yMid = (parentPt[1] - cntrPt[1])/2.0 + cntrPt[1]         # 计算文本位置的纵坐标\n",
    "    createPlot.ax1.text(xMid,                                # 文本位置的横坐标 \n",
    "                        yMid,                                # 文本位置的纵坐标\n",
    "                        txtString)                           # 标注内容"
   ]
  },
  {
   "cell_type": "code",
   "execution_count": 32,
   "metadata": {},
   "outputs": [],
   "source": [
    "def plotTree(myTree, parentPt, nodeTxt):\n",
    "    '''\n",
    "    函数功能：\n",
    "            绘制决策树\n",
    "    函数参数：\n",
    "            myTree__决策树\n",
    "            parentPt__标注的内容\n",
    "            nodeTxt__节点名称\n",
    "    '''\n",
    "    numLeafs = getNumLeafs(myTree)                          # 获取决策树叶结点数目，决定了树的宽度 \n",
    "    depth = getTreeDepth(myTree)                            # 获取决策树层数，决定了树的高度\n",
    "    firstStr = next(iter(myTree))                           # 获得决策树第一个节点\n",
    "    cntrPt = (plotTree.xOff+(1.0+float(numLeafs))/2.0/plotTree.totalW,plotTree.yOff)#确定中心位置\n",
    "    plotMidText(cntrPt, parentPt, nodeTxt)                  # 标注有向边内容\n",
    "    plotNode(firstStr, cntrPt, parentPt, decisionNode)      # 绘制节点\n",
    "    secondDict = myTree[firstStr]                           # 获取下一个字典\n",
    "    plotTree.yOff = plotTree.yOff - 1.0/plotTree.totalD     # y偏移值\n",
    "    for key in secondDict.keys():\n",
    "        if type(secondDict[key]).__name__ == 'dict':        # 该结点是否为字典\n",
    "            plotTree(secondDict[key], cntrPt, str(key))     # 如果是字典则不是叶结点，递归调用继续绘制\n",
    "        else:                                \n",
    "            plotTree.xOff = plotTree.xOff + 1.0/plotTree.totalW                          # x偏移值\n",
    "            plotNode(secondDict[key], (plotTree.xOff, plotTree.yOff), cntrPt, leafNode)  # 绘制节点\n",
    "            plotMidText((plotTree.xOff, plotTree.yOff), cntrPt, str(key))                # 标注有向边内容\n",
    "    plotTree.yOff = plotTree.yOff + 1.0/plotTree.totalD          "
   ]
  },
  {
   "cell_type": "code",
   "execution_count": 33,
   "metadata": {},
   "outputs": [
    {
     "data": {
      "image/png": "[encoded data removed]",
      "text/plain": [
       "<Figure size 432x288 with 1 Axes>"
      ]
     },
     "metadata": {},
     "output_type": "display_data"
    }
   ],
   "source": [
    "def createPlot(inTree):\n",
    "    '''\n",
    "    函数功能：绘制完整的决策树\n",
    "    参数说明：\n",
    "            inTree__决策树\n",
    "    '''\n",
    "    fig = plt.figure(1, facecolor='white')                      #创建画布\n",
    "    fig.clf()                                                   #清空画布\n",
    "    axprops = dict(xticks=[], yticks=[])   \n",
    "    createPlot.ax1 = plt.subplot(111, frameon=False, **axprops) # 除去x、y轴\n",
    "    plotTree.totalW = float(getNumLeafs(inTree))                # 获取决策树叶结点数目\n",
    "    plotTree.totalD = float(getTreeDepth(inTree))               # 获取决策树深度\n",
    "    plotTree.xOff = -0.5/plotTree.totalW                        # x偏移的初始值\n",
    "    plotTree.yOff = 1.0                                         # y偏移的初始值\n",
    "    plotTree(inTree, (0.5,1.0), '')                             # 绘制决策树\n",
    "    plt.show()                                                  #显示图像\n",
    "\n",
    "# 测试函数\n",
    "# labels = ['no surfacing', 'flippers', 'labels']\n",
    "# tree = createTree(dataSet, labels)\n",
    "createPlot(tree)"
   ]
  },
  {
   "cell_type": "code",
   "execution_count": 34,
   "metadata": {},
   "outputs": [
    {
     "data": {
      "image/png": "[encoded data removed]",
      "text/plain": [
       "<Figure size 432x288 with 1 Axes>"
      ]
     },
     "metadata": {},
     "output_type": "display_data"
    }
   ],
   "source": [
    "tree['no surfacing'][3] = 'maybe'\n",
    "createPlot(tree)"
   ]
  },
  {
   "cell_type": "code",
   "execution_count": 37,
   "metadata": {},
   "outputs": [],
   "source": [
    "#测试\n",
    "def classify(inputTree, featLabels, testVec):\n",
    "    '''\n",
    "    函数功能：\n",
    "            对测试实例进行分类\n",
    "    参数说明：\n",
    "            inputTree__已经训练好的决策树\n",
    "            featLabels__特征标签类别\n",
    "            testVec__测试示例\n",
    "    函数返回：\n",
    "            分类结果  \n",
    "    '''\n",
    "    # python3.x中input.key()[0]返回的是dict_keys，不是list，这里注意区别（书上的代码是python2.x）\n",
    "    firstStr = list(inputTree.keys())[0]  # 获得决策树第一个节点\n",
    "    #print(featLabels)\n",
    "    secondDict = inputTree[firstStr]      # 获取下一个字典\n",
    "    print(secondDict)\n",
    "    print(firstStr)\n",
    "    featIndex = featLabels.index(firstStr)    # 将标签字符串转换为索引(第一个节点所在列的索引)\n",
    "    for key in secondDict.keys():\n",
    "        #print(testVec[featIndex])\n",
    "        if testVec[featIndex] == key:\n",
    "            if type(secondDict[key]).__name__ == 'dict':\n",
    "                classLabel = classify(secondDict[key], featLabels, testVec)\n",
    "            else:\n",
    "                classLabel = secondDict[key]\n",
    "    return classLabel"
   ]
  },
  {
   "cell_type": "code",
   "execution_count": 51,
   "metadata": {},
   "outputs": [],
   "source": [
    "def storeTree(inputTree, filename):\n",
    "    '''\n",
    "    函数功能：\n",
    "            将决策树保存在磁盘中\n",
    "    函数参数：\n",
    "            inputTree__决策树\n",
    "            filename__文件名\n",
    "    '''\n",
    "    import pickle                    # 导入pickle模块\n",
    "    # 按照书中这里写的'w'，将会报错write() argument must be str,not bytes\n",
    "    # 所以这里将改写为'wb'\n",
    "    fw = open(filename, 'wb')        # 创建一个可以“写入”的文件\n",
    "    pickle.dump(inputTree, fw)       # pickle的dump函数将决策树写入文件中  \n",
    "    fw.close()                       # 写完成后关闭文件\n",
    "def gradTree(filename):\n",
    "    '''\n",
    "    函数功能：\n",
    "            将树从磁盘中取出\n",
    "    函数参数：\n",
    "            filename__文件名\n",
    "    '''\n",
    "    import pickle                     # 导入pickle模块\n",
    "    fr = open(filename, 'rb')         # 使用'rb'读出数据\n",
    "    return pickle.load(fr)    \n",
    "\n",
    "# 函数测试\n",
    "# labels = ['no surfacing', 'flippers', 'labels']\n",
    "# tree = createTree(dataSet, labels)\n",
    "storeTree(tree, 'classifer.json')\n",
    "#gradTree('classifer.json')"
   ]
  },
  {
   "cell_type": "code",
   "execution_count": 21,
   "metadata": {},
   "outputs": [
    {
     "name": "stdout",
     "output_type": "stream",
     "text": [
      "infoGain= 0.03939650364612124 bestFeature= 0 1.3260875253642983 1.286691021718177\n",
      "infoGain= 0.039510835423565815 bestFeature= 1 1.3260875253642983 1.2865766899407325\n",
      "infoGain= 0.37700523001147723 bestFeature= 2 1.3260875253642983 0.9490822953528211\n",
      "infoGain= 0.5487949406953986 bestFeature= 3 1.3260875253642983 0.7772925846688997\n",
      "infoGain= 0.22125183600446618 bestFeature= 0 1.5545851693377994 1.3333333333333333\n",
      "infoGain= 0.09543725231055489 bestFeature= 1 1.5545851693377994 1.4591479170272446\n",
      "infoGain= 0.7704260414863776 bestFeature= 2 1.5545851693377994 0.7841591278514218\n",
      "infoGain= 0.3166890883150208 bestFeature= 0 0.6500224216483541 0.3333333333333333\n",
      "infoGain= 0.19087450462110933 bestFeature= 1 0.6500224216483541 0.4591479170272448\n",
      "infoGain= 1.0 bestFeature= 0 1.0 0.0\n",
      "infoGain= 0.2516291673878229 bestFeature= 0 0.9182958340544896 0.6666666666666666\n",
      "infoGain= 0.4591479170272448 bestFeature= 1 0.9182958340544896 0.4591479170272448\n",
      "infoGain= 0.9182958340544896 bestFeature= 0 0.9182958340544896 0.0\n"
     ]
    },
    {
     "data": {
      "text/plain": [
       "{'tearRate': {'reduced': 'no lenses',\n",
       "  'normal': {'astigmatic': {'no': {'age': {'presbyopic': {'prescript': {'myope': 'no lenses',\n",
       "        'hyper': 'soft'}},\n",
       "      'pre': 'soft',\n",
       "      'young': 'soft'}},\n",
       "    'yes': {'prescript': {'myope': 'hard',\n",
       "      'hyper': {'age': {'presbyopic': 'no lenses',\n",
       "        'pre': 'no lenses',\n",
       "        'young': 'hard'}}}}}}}}"
      ]
     },
     "execution_count": 21,
     "metadata": {},
     "output_type": "execute_result"
    }
   ],
   "source": [
    "fr = open('./3.DecisionTree/lenses.txt')\n",
    "lenses = [inst.strip().split('\\t') for inst in fr.readlines()]\n",
    "lensesLable = ['age', 'prescript', 'astigmatic', 'tearRate']\n",
    "lensesTree = createTree(lenses, lensesLable)\n",
    "lensesTree"
   ]
  },
  {
   "cell_type": "code",
   "execution_count": null,
   "metadata": {},
   "outputs": [],
   "source": []
  }
 ],
 "metadata": {
  "kernelspec": {
   "display_name": "Python 3",
   "language": "python",
   "name": "python3"
  },
  "language_info": {
   "codemirror_mode": {
    "name": "ipython",
    "version": 3
   },
   "file_extension": ".py",
   "mimetype": "text/x-python",
   "name": "python",
   "nbconvert_exporter": "python",
   "pygments_lexer": "ipython3",
   "version": "3.7.0"
  }
 },
 "nbformat": 4,
 "nbformat_minor": 2
}
